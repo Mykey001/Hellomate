{
  "nbformat": 4,
  "nbformat_minor": 0,
  "metadata": {
    "colab": {
      "provenance": [],
      "authorship_tag": "ABX9TyNkBmxzIwrRhG9jzdPjETLj",
      "include_colab_link": true
    },
    "kernelspec": {
      "name": "python3",
      "display_name": "Python 3"
    },
    "language_info": {
      "name": "python"
    }
  },
  "cells": [
    {
      "cell_type": "markdown",
      "metadata": {
        "id": "view-in-github",
        "colab_type": "text"
      },
      "source": [
        "<a href=\"https://colab.research.google.com/github/Mykey001/Hellomate/blob/master/python_basic.ipynb\" target=\"_parent\"><img src=\"https://colab.research.google.com/assets/colab-badge.svg\" alt=\"Open In Colab\"/></a>"
      ]
    },
    {
      "cell_type": "markdown",
      "source": [
        "# Print function"
      ],
      "metadata": {
        "id": "EkjqAkTgiSrU"
      }
    },
    {
      "cell_type": "code",
      "source": [
        "print('Mashine Learning')"
      ],
      "metadata": {
        "colab": {
          "base_uri": "https://localhost:8080/"
        },
        "id": "dTlCtmwhk255",
        "outputId": "15ff85d9-53be-463e-a10c-fcb59b64dd9f"
      },
      "execution_count": 12,
      "outputs": [
        {
          "output_type": "stream",
          "name": "stdout",
          "text": [
            "Mashine Learning\n"
          ]
        }
      ]
    },
    {
      "cell_type": "code",
      "source": [
        "print('Mashine Learning' + ' Project')"
      ],
      "metadata": {
        "colab": {
          "base_uri": "https://localhost:8080/"
        },
        "id": "xS2AVK-BlOoA",
        "outputId": "ff3fef9e-fb4d-4d54-840b-923835bab726"
      },
      "execution_count": 47,
      "outputs": [
        {
          "output_type": "stream",
          "name": "stdout",
          "text": [
            "Mashine Learning Project\n"
          ]
        }
      ]
    },
    {
      "cell_type": "code",
      "source": [
        "print(8)"
      ],
      "metadata": {
        "colab": {
          "base_uri": "https://localhost:8080/"
        },
        "id": "Rys1ZKHwlbrP",
        "outputId": "b2c582f7-b17c-4fa1-c72e-dee0808e9298"
      },
      "execution_count": 15,
      "outputs": [
        {
          "output_type": "stream",
          "name": "stdout",
          "text": [
            "8\n"
          ]
        }
      ]
    },
    {
      "cell_type": "code",
      "source": [
        "print(8+3)"
      ],
      "metadata": {
        "colab": {
          "base_uri": "https://localhost:8080/"
        },
        "id": "J9edAWuYlfvP",
        "outputId": "c73a9648-33fa-4bce-ea94-cd9825ad8197"
      },
      "execution_count": 16,
      "outputs": [
        {
          "output_type": "stream",
          "name": "stdout",
          "text": [
            "11\n"
          ]
        }
      ]
    },
    {
      "cell_type": "code",
      "source": [],
      "metadata": {
        "id": "O6PVzwxFlkLq"
      },
      "execution_count": null,
      "outputs": []
    },
    {
      "cell_type": "markdown",
      "source": [
        "#Basic Data types:\n",
        "\n",
        "\n",
        "1.  int\n",
        "2.  float\n",
        "3.  str"
      ],
      "metadata": {
        "id": "gWyDsgDBmNq9"
      }
    },
    {
      "cell_type": "code",
      "source": [
        "type(8)"
      ],
      "metadata": {
        "colab": {
          "base_uri": "https://localhost:8080/"
        },
        "id": "6b1o8VpImarD",
        "outputId": "065dad7f-d196-4c28-ab55-394d581b486c"
      },
      "execution_count": 48,
      "outputs": [
        {
          "output_type": "execute_result",
          "data": {
            "text/plain": [
              "int"
            ]
          },
          "metadata": {},
          "execution_count": 48
        }
      ]
    },
    {
      "cell_type": "code",
      "source": [
        "type(5.3)"
      ],
      "metadata": {
        "colab": {
          "base_uri": "https://localhost:8080/"
        },
        "id": "MtFj5RlUmk0O",
        "outputId": "529a9b6b-7fb4-40bf-8ad4-8463c46983ce"
      },
      "execution_count": 49,
      "outputs": [
        {
          "output_type": "execute_result",
          "data": {
            "text/plain": [
              "float"
            ]
          },
          "metadata": {},
          "execution_count": 49
        }
      ]
    },
    {
      "cell_type": "code",
      "source": [
        "type(\"english\")"
      ],
      "metadata": {
        "colab": {
          "base_uri": "https://localhost:8080/"
        },
        "id": "8CrNtw9zm5Bh",
        "outputId": "192737cd-2c4f-4cd7-fc82-baf3238fd17d"
      },
      "execution_count": 50,
      "outputs": [
        {
          "output_type": "execute_result",
          "data": {
            "text/plain": [
              "str"
            ]
          },
          "metadata": {},
          "execution_count": 50
        }
      ]
    },
    {
      "cell_type": "code",
      "source": [],
      "metadata": {
        "id": "r7C5OYTEnAT_"
      },
      "execution_count": 50,
      "outputs": []
    },
    {
      "cell_type": "markdown",
      "source": [
        "# Constants and Variables"
      ],
      "metadata": {
        "id": "JsQpW9zInDOd"
      }
    },
    {
      "cell_type": "code",
      "source": [
        "Marvel_Superhero = 'spider Man'\n",
        "print(Marvel_Superhero)"
      ],
      "metadata": {
        "colab": {
          "base_uri": "https://localhost:8080/"
        },
        "id": "uP0g0Gu6nJK7",
        "outputId": "8daa579c-4ecd-4533-bd7e-aa75c7b0eb78"
      },
      "execution_count": 28,
      "outputs": [
        {
          "output_type": "stream",
          "name": "stdout",
          "text": [
            "spider Man\n"
          ]
        }
      ]
    },
    {
      "cell_type": "code",
      "source": [
        "marvel_super_hero = 'Iron man'\n",
        "print(marvel_super_hero)"
      ],
      "metadata": {
        "colab": {
          "base_uri": "https://localhost:8080/"
        },
        "id": "eXhnbn60odwB",
        "outputId": "16b6f2b4-d006-4a9f-e6af-7f2349f15afa"
      },
      "execution_count": 31,
      "outputs": [
        {
          "output_type": "stream",
          "name": "stdout",
          "text": [
            "Iron man\n"
          ]
        }
      ]
    },
    {
      "cell_type": "code",
      "source": [
        "marvel_super_hero = 'Captain AmerICA'\n",
        "print(marvel_super_hero)"
      ],
      "metadata": {
        "colab": {
          "base_uri": "https://localhost:8080/"
        },
        "id": "w8dTUzswpWd7",
        "outputId": "2a0a774e-817d-42e8-f619-167cc61593d0"
      },
      "execution_count": 32,
      "outputs": [
        {
          "output_type": "stream",
          "name": "stdout",
          "text": [
            "Captain AmerICA\n"
          ]
        }
      ]
    },
    {
      "cell_type": "code",
      "source": [
        "hero1 , hero2 , hero3 = 'Iron man' ,'spider man' , 'Captain AmeriCA'\n",
        "print(hero1)\n",
        "print(hero2)\n",
        "print(hero3)"
      ],
      "metadata": {
        "colab": {
          "base_uri": "https://localhost:8080/"
        },
        "id": "EI_y2-guptBy",
        "outputId": "729d1348-6a6b-4118-abb8-a7c76aa8c6cd"
      },
      "execution_count": 37,
      "outputs": [
        {
          "output_type": "stream",
          "name": "stdout",
          "text": [
            "Iron man\n",
            "spider man\n",
            "Captain AmeriCA\n"
          ]
        }
      ]
    },
    {
      "cell_type": "code",
      "source": [
        "x = y = z = 23\n",
        "print(x)\n",
        "print(y)\n",
        "print(z)"
      ],
      "metadata": {
        "colab": {
          "base_uri": "https://localhost:8080/"
        },
        "id": "_zKslT7jqSYu",
        "outputId": "c115a944-8692-4b0c-8fb6-b3207d8361b8"
      },
      "execution_count": 38,
      "outputs": [
        {
          "output_type": "stream",
          "name": "stdout",
          "text": [
            "23\n",
            "23\n",
            "23\n"
          ]
        }
      ]
    },
    {
      "cell_type": "code",
      "source": [],
      "metadata": {
        "id": "P6UJrWcwrMk_"
      },
      "execution_count": null,
      "outputs": []
    },
    {
      "cell_type": "markdown",
      "source": [],
      "metadata": {
        "id": "27epapHZrQN8"
      }
    },
    {
      "cell_type": "markdown",
      "source": [
        "# input Function"
      ],
      "metadata": {
        "id": "xIqy8l0kraPi"
      }
    },
    {
      "cell_type": "code",
      "source": [
        "number_1 = int(input('Enter the first number : '))\n",
        "number_2 = int(input('Enter the second number : '))\n",
        "\n",
        "sum = number_1 + number_2\n",
        "print(sum)\n"
      ],
      "metadata": {
        "colab": {
          "base_uri": "https://localhost:8080/"
        },
        "id": "HJZW7HBSrfXe",
        "outputId": "815533e1-6844-4b2a-ccb4-7b7102efe653"
      },
      "execution_count": 43,
      "outputs": [
        {
          "output_type": "stream",
          "name": "stdout",
          "text": [
            "Enter the first number : 23\n",
            "Enter the second number : 24\n",
            "47\n"
          ]
        }
      ]
    },
    {
      "cell_type": "code",
      "source": [
        "# changing the data type in python:\n",
        "num = 5\n",
        "print(float(num))"
      ],
      "metadata": {
        "colab": {
          "base_uri": "https://localhost:8080/"
        },
        "id": "XBqC_MxksXJN",
        "outputId": "cf58baf9-74aa-4f22-e898-65b149a42197"
      },
      "execution_count": 45,
      "outputs": [
        {
          "output_type": "stream",
          "name": "stdout",
          "text": [
            "5.0\n"
          ]
        }
      ]
    },
    {
      "cell_type": "code",
      "source": [],
      "metadata": {
        "id": "MF8A2gkTtdJd"
      },
      "execution_count": null,
      "outputs": []
    }
  ]
}